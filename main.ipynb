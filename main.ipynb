{
 "cells": [
  {
   "cell_type": "code",
   "execution_count": 1,
   "metadata": {},
   "outputs": [],
   "source": [
    "from modules import car_rental_module \n",
    "from modules import customer_module\n",
    "\n"
   ]
  },
  {
   "cell_type": "code",
   "execution_count": 2,
   "metadata": {},
   "outputs": [
    {
     "name": "stdout",
     "output_type": "stream",
     "text": [
      "HELLO k\n",
      "Welcome to the car rental system\n",
      "Please choose from the following options\n",
      "1. Rent a car\n",
      "2. Return a car\n",
      "3. Exit\n",
      "Available cars:  ['honda', 'porsche', 'ford', 'tesla']\n",
      "k : 2024-03-28 19:33:29.708991\n",
      "Car rented successfully for  2024-04-06 20:33:29.709072\n",
      "HELLO j\n",
      "Welcome to the car rental system\n",
      "Please choose from the following options\n",
      "1. Rent a car\n",
      "2. Return a car\n",
      "3. Exit\n",
      "Available cars:  ['porsche', 'ford', 'tesla']\n",
      "['porsche', 'ford', 'tesla']\n",
      "Car has been returned, Thank You\n",
      "HELLO \n",
      "Welcome to the car rental system\n",
      "Please choose from the following options\n",
      "1. Rent a car\n",
      "2. Return a car\n",
      "3. Exit\n",
      "Available cars:  ['porsche', 'ford', 'tesla', 'honda']\n"
     ]
    },
    {
     "ename": "ValueError",
     "evalue": "invalid literal for int() with base 10: ''",
     "output_type": "error",
     "traceback": [
      "\u001b[0;31m---------------------------------------------------------------------------\u001b[0m",
      "\u001b[0;31mValueError\u001b[0m                                Traceback (most recent call last)",
      "Cell \u001b[0;32mIn[2], line 47\u001b[0m\n\u001b[1;32m     44\u001b[0m     \u001b[38;5;28;01mreturn\u001b[39;00m rental\n\u001b[1;32m     46\u001b[0m \u001b[38;5;28;01mwhile\u001b[39;00m(\u001b[38;5;28;01mTrue\u001b[39;00m):\n\u001b[0;32m---> 47\u001b[0m     customers\u001b[38;5;241m.\u001b[39mappend(\u001b[43mcustomer_init\u001b[49m\u001b[43m(\u001b[49m\u001b[43m)\u001b[49m)\n",
      "Cell \u001b[0;32mIn[2], line 18\u001b[0m, in \u001b[0;36mcustomer_init\u001b[0;34m()\u001b[0m\n\u001b[1;32m     16\u001b[0m \u001b[38;5;28mprint\u001b[39m(\u001b[38;5;124m\"\u001b[39m\u001b[38;5;124m3. Exit\u001b[39m\u001b[38;5;124m\"\u001b[39m)\n\u001b[1;32m     17\u001b[0m available_cars\u001b[38;5;241m=\u001b[39mrental\u001b[38;5;241m.\u001b[39mget_available_cars()\n\u001b[0;32m---> 18\u001b[0m choice\u001b[38;5;241m=\u001b[39m\u001b[38;5;28;43mint\u001b[39;49m\u001b[43m(\u001b[49m\u001b[38;5;28;43minput\u001b[39;49m\u001b[43m(\u001b[49m\u001b[43m)\u001b[49m\u001b[43m)\u001b[49m\n\u001b[1;32m     19\u001b[0m car\u001b[38;5;241m=\u001b[39m\u001b[38;5;28minput\u001b[39m(\u001b[38;5;124m\"\u001b[39m\u001b[38;5;124mplease enter the car name\u001b[39m\u001b[38;5;124m\"\u001b[39m)\n\u001b[1;32m     23\u001b[0m \u001b[38;5;28;01mif\u001b[39;00m choice\u001b[38;5;241m==\u001b[39m\u001b[38;5;241m1\u001b[39m:\n",
      "\u001b[0;31mValueError\u001b[0m: invalid literal for int() with base 10: ''"
     ]
    }
   ],
   "source": [
    "customers=[]\n",
    "\n",
    "\n",
    "def customer_init():\n",
    " \n",
    "    name=input(\"Please enter your name\")\n",
    "    rental=car_rental_module.Rentals()\n",
    "    rental.name=name\n",
    "    # customer=customer_module.Customer(name)\n",
    "    # customers.append(customer_module.Customer(customer))\n",
    "    print(\"HELLO \"+name)\n",
    "    print(\"Welcome to the car rental system\")\n",
    "    print(\"Please choose from the following options\")\n",
    "    print(\"1. Rent a car\")\n",
    "    print(\"2. Return a car\")\n",
    "    print(\"3. Exit\")\n",
    "    available_cars=rental.get_available_cars()\n",
    "    choice=int(input())\n",
    "    car=input(\"please enter the car name\")\n",
    "\n",
    "\n",
    "\n",
    "    if choice==1:\n",
    "        if(car in available_cars):\n",
    "            rental.rent_car(car,rental)\n",
    "        else: \n",
    "            print(\"Car is not available\")\n",
    "            customer_init()\n",
    "    elif choice==2:\n",
    "        print(available_cars)\n",
    "        if(car in rental.car_rented):\n",
    "            rental.return_car(car,rental)\n",
    "            print(\"Car has been returned, Thank You\")\n",
    "        else:\n",
    "            print(\"Car is not rented\")\n",
    "            customer_init()\n",
    "    elif choice==3:\n",
    "        print(\"Thank you for using the car rental system\")\n",
    "    else:\n",
    "        print(\"Invalid choice\")\n",
    "        print(available_cars)\n",
    "        customer_init()\n",
    "    \n",
    "    return rental\n",
    "\n",
    "while(True):\n",
    "    customers.append(customer_init())\n",
    "    "
   ]
  },
  {
   "cell_type": "code",
   "execution_count": null,
   "metadata": {},
   "outputs": [
    {
     "ename": "NameError",
     "evalue": "name 'rental' is not defined",
     "output_type": "error",
     "traceback": [
      "\u001b[0;31m---------------------------------------------------------------------------\u001b[0m",
      "\u001b[0;31mNameError\u001b[0m                                 Traceback (most recent call last)",
      "Cell \u001b[0;32mIn[3], line 1\u001b[0m\n\u001b[0;32m----> 1\u001b[0m \u001b[38;5;28mprint\u001b[39m(\u001b[43mrental\u001b[49m\u001b[38;5;241m.\u001b[39mget_name)\n",
      "\u001b[0;31mNameError\u001b[0m: name 'rental' is not defined"
     ]
    }
   ],
   "source": [
    "print(rental_customer.get_name())"
   ]
  },
  {
   "cell_type": "code",
   "execution_count": null,
   "metadata": {},
   "outputs": [],
   "source": []
  },
  {
   "cell_type": "code",
   "execution_count": null,
   "metadata": {},
   "outputs": [],
   "source": []
  },
  {
   "cell_type": "code",
   "execution_count": null,
   "metadata": {},
   "outputs": [],
   "source": []
  }
 ],
 "metadata": {
  "kernelspec": {
   "display_name": "Python 3",
   "language": "python",
   "name": "python3"
  },
  "language_info": {
   "codemirror_mode": {
    "name": "ipython",
    "version": 3
   },
   "file_extension": ".py",
   "mimetype": "text/x-python",
   "name": "python",
   "nbconvert_exporter": "python",
   "pygments_lexer": "ipython3",
   "version": "3.11.8"
  }
 },
 "nbformat": 4,
 "nbformat_minor": 2
}
