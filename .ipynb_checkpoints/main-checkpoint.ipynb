{
 "cells": [
  {
   "cell_type": "code",
   "execution_count": 1,
   "metadata": {},
   "outputs": [
    {
     "name": "stdout",
     "output_type": "stream",
     "text": [
      "test:  2024-01-24 20:19:57.855723\n",
      "['porsche', 'ford', 'tesla']\n",
      "[{'honda': '2024-01-26 20:19:57.855832'}]\n"
     ]
    }
   ],
   "source": [
    "from modules import car_rental_module \n",
    "\n",
    "cars=car_rental_module.Rentals()\n",
    "rental=cars.rent_car(\"honda\")\n",
    "# current_time=car_rental_module.Rentals.current_time\n",
    "print(cars.get_available_cars())\n",
    "print(rental)"
   ]
  },
  {
   "cell_type": "code",
   "execution_count": null,
   "metadata": {},
   "outputs": [],
   "source": []
  },
  {
   "cell_type": "code",
   "execution_count": null,
   "metadata": {},
   "outputs": [],
   "source": []
  },
  {
   "cell_type": "code",
   "execution_count": null,
   "metadata": {},
   "outputs": [],
   "source": []
  }
 ],
 "metadata": {
  "kernelspec": {
   "display_name": "Python 3",
   "language": "python",
   "name": "python3"
  },
  "language_info": {
   "codemirror_mode": {
    "name": "ipython",
    "version": 3
   },
   "file_extension": ".py",
   "mimetype": "text/x-python",
   "name": "python",
   "nbconvert_exporter": "python",
   "pygments_lexer": "ipython3",
   "version": "3.11.6"
  }
 },
 "nbformat": 4,
 "nbformat_minor": 2
}
